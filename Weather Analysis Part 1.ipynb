{
 "cells": [
  {
   "cell_type": "markdown",
   "id": "0f7060ac",
   "metadata": {},
   "source": [
    "### Overview\n",
    "\n",
    "In this notebook we will analyze the historical temperatures of NYC. Our data contains the average high, average low, record high, and record low of every calendar date."
   ]
  },
  {
   "cell_type": "code",
   "execution_count": 3,
   "id": "38a5cebe",
   "metadata": {},
   "outputs": [
    {
     "data": {
      "text/html": [
       "<div>\n",
       "<style scoped>\n",
       "    .dataframe tbody tr th:only-of-type {\n",
       "        vertical-align: middle;\n",
       "    }\n",
       "\n",
       "    .dataframe tbody tr th {\n",
       "        vertical-align: top;\n",
       "    }\n",
       "\n",
       "    .dataframe thead th {\n",
       "        text-align: right;\n",
       "    }\n",
       "</style>\n",
       "<table border=\"1\" class=\"dataframe\">\n",
       "  <thead>\n",
       "    <tr style=\"text-align: right;\">\n",
       "      <th></th>\n",
       "      <th>Date</th>\n",
       "      <th>avgLow</th>\n",
       "      <th>avgHigh</th>\n",
       "      <th>recLow</th>\n",
       "      <th>recLowYear</th>\n",
       "      <th>recHigh</th>\n",
       "      <th>recHighYear</th>\n",
       "    </tr>\n",
       "  </thead>\n",
       "  <tbody>\n",
       "    <tr>\n",
       "      <th>0</th>\n",
       "      <td>1-Jan</td>\n",
       "      <td>24</td>\n",
       "      <td>38</td>\n",
       "      <td>10</td>\n",
       "      <td>1963</td>\n",
       "      <td>59</td>\n",
       "      <td>1966</td>\n",
       "    </tr>\n",
       "    <tr>\n",
       "      <th>1</th>\n",
       "      <td>2-Jan</td>\n",
       "      <td>24</td>\n",
       "      <td>38</td>\n",
       "      <td>6</td>\n",
       "      <td>1968</td>\n",
       "      <td>58</td>\n",
       "      <td>1966</td>\n",
       "    </tr>\n",
       "    <tr>\n",
       "      <th>2</th>\n",
       "      <td>3-Jan</td>\n",
       "      <td>24</td>\n",
       "      <td>37</td>\n",
       "      <td>3</td>\n",
       "      <td>1981</td>\n",
       "      <td>56</td>\n",
       "      <td>1950</td>\n",
       "    </tr>\n",
       "    <tr>\n",
       "      <th>3</th>\n",
       "      <td>4-Jan</td>\n",
       "      <td>24</td>\n",
       "      <td>37</td>\n",
       "      <td>1</td>\n",
       "      <td>1981</td>\n",
       "      <td>64</td>\n",
       "      <td>1950</td>\n",
       "    </tr>\n",
       "    <tr>\n",
       "      <th>4</th>\n",
       "      <td>5-Jan</td>\n",
       "      <td>24</td>\n",
       "      <td>37</td>\n",
       "      <td>1</td>\n",
       "      <td>1981</td>\n",
       "      <td>60</td>\n",
       "      <td>1950</td>\n",
       "    </tr>\n",
       "    <tr>\n",
       "      <th>...</th>\n",
       "      <td>...</td>\n",
       "      <td>...</td>\n",
       "      <td>...</td>\n",
       "      <td>...</td>\n",
       "      <td>...</td>\n",
       "      <td>...</td>\n",
       "      <td>...</td>\n",
       "    </tr>\n",
       "    <tr>\n",
       "      <th>361</th>\n",
       "      <td>27-Dec</td>\n",
       "      <td>25</td>\n",
       "      <td>39</td>\n",
       "      <td>5</td>\n",
       "      <td>1948</td>\n",
       "      <td>60</td>\n",
       "      <td>1973</td>\n",
       "    </tr>\n",
       "    <tr>\n",
       "      <th>362</th>\n",
       "      <td>28-Dec</td>\n",
       "      <td>25</td>\n",
       "      <td>39</td>\n",
       "      <td>7</td>\n",
       "      <td>1950</td>\n",
       "      <td>64</td>\n",
       "      <td>1982</td>\n",
       "    </tr>\n",
       "    <tr>\n",
       "      <th>363</th>\n",
       "      <td>29-Dec</td>\n",
       "      <td>25</td>\n",
       "      <td>38</td>\n",
       "      <td>8</td>\n",
       "      <td>1993</td>\n",
       "      <td>67</td>\n",
       "      <td>1984</td>\n",
       "    </tr>\n",
       "    <tr>\n",
       "      <th>364</th>\n",
       "      <td>30-Dec</td>\n",
       "      <td>25</td>\n",
       "      <td>38</td>\n",
       "      <td>2</td>\n",
       "      <td>1962</td>\n",
       "      <td>59</td>\n",
       "      <td>1984</td>\n",
       "    </tr>\n",
       "    <tr>\n",
       "      <th>365</th>\n",
       "      <td>31-Dec</td>\n",
       "      <td>24</td>\n",
       "      <td>38</td>\n",
       "      <td>2</td>\n",
       "      <td>1962</td>\n",
       "      <td>61</td>\n",
       "      <td>1965</td>\n",
       "    </tr>\n",
       "  </tbody>\n",
       "</table>\n",
       "<p>366 rows × 7 columns</p>\n",
       "</div>"
      ],
      "text/plain": [
       "       Date  avgLow  avgHigh  recLow  recLowYear  recHigh  recHighYear\n",
       "0     1-Jan      24       38      10        1963       59         1966\n",
       "1     2-Jan      24       38       6        1968       58         1966\n",
       "2     3-Jan      24       37       3        1981       56         1950\n",
       "3     4-Jan      24       37       1        1981       64         1950\n",
       "4     5-Jan      24       37       1        1981       60         1950\n",
       "..      ...     ...      ...     ...         ...      ...          ...\n",
       "361  27-Dec      25       39       5        1948       60         1973\n",
       "362  28-Dec      25       39       7        1950       64         1982\n",
       "363  29-Dec      25       38       8        1993       67         1984\n",
       "364  30-Dec      25       38       2        1962       59         1984\n",
       "365  31-Dec      24       38       2        1962       61         1965\n",
       "\n",
       "[366 rows x 7 columns]"
      ]
     },
     "execution_count": 3,
     "metadata": {},
     "output_type": "execute_result"
    }
   ],
   "source": [
    "import pandas as pd\n",
    "import csv\n",
    "\n",
    "df = pd.read_csv('./NYC_TemperatureData.csv')\n",
    "df"
   ]
  },
  {
   "cell_type": "code",
   "execution_count": 4,
   "id": "860643fa",
   "metadata": {},
   "outputs": [
    {
     "data": {
      "text/plain": [
       "array([['1-Jan', 24, 38, ..., 1963, 59, 1966],\n",
       "       ['2-Jan', 24, 38, ..., 1968, 58, 1966],\n",
       "       ['3-Jan', 24, 37, ..., 1981, 56, 1950],\n",
       "       ...,\n",
       "       ['29-Dec', 25, 38, ..., 1993, 67, 1984],\n",
       "       ['30-Dec', 25, 38, ..., 1962, 59, 1984],\n",
       "       ['31-Dec', 24, 38, ..., 1962, 61, 1965]], dtype=object)"
      ]
     },
     "execution_count": 4,
     "metadata": {},
     "output_type": "execute_result"
    }
   ],
   "source": [
    "temp_data = df.to_numpy()\n",
    "\n",
    "temp_data"
   ]
  },
  {
   "cell_type": "code",
   "execution_count": 5,
   "id": "a6f79e52",
   "metadata": {},
   "outputs": [
    {
     "data": {
      "text/plain": [
       "array(['2-Jan', 24, 38, 6, 1968, 58, 1966], dtype=object)"
      ]
     },
     "execution_count": 5,
     "metadata": {},
     "output_type": "execute_result"
    }
   ],
   "source": [
    "##output the first element of the `temp_data` 2-D list. \n",
    "temp_data[1]"
   ]
  },
  {
   "cell_type": "markdown",
   "id": "a3e2afd4",
   "metadata": {},
   "source": [
    "#### Access a specific element/row"
   ]
  },
  {
   "cell_type": "code",
   "execution_count": 6,
   "id": "cfdae845",
   "metadata": {},
   "outputs": [
    {
     "data": {
      "text/plain": [
       "24"
      ]
     },
     "execution_count": 6,
     "metadata": {},
     "output_type": "execute_result"
    }
   ],
   "source": [
    "temp_data[1, 1]"
   ]
  },
  {
   "cell_type": "code",
   "execution_count": 7,
   "id": "58e3091f",
   "metadata": {},
   "outputs": [
    {
     "data": {
      "text/plain": [
       "array([10, 6, 3, 1, 1, 3, 5, 0, 0, 0, 0, 1, 3, 5, 0, 1, 0, 0, 1, -4, 2, 2,\n",
       "       1, 4, 4, 8, 4, 4, 1, 7, 6, 4, -2, 1, 4, 2, 3, 5, 2, 4, 0, -3, 0, 0,\n",
       "       0, 0, 2, -3, -1, 10, 5, 5, 8, 10, 16, 13, 10, 9, 11, 7, 5, 10, 10,\n",
       "       11, 12, 16, 9, 9, 10, 10, 12, 12, 19, 19, 17, 15, 13, 5, 16, 15,\n",
       "       12, 14, 19, 23, 18, 20, 24, 20, 25, 22, 20, 26, 29, 22, 23, 22, 21,\n",
       "       18, 21, 25, 26, 27, 26, 28, 21, 27, 26, 28, 36, 31, 33, 20, 27, 30,\n",
       "       38, 33, 33, 32, 38, 37, 40, 36, 34, 38, 38, 40, 41, 36, 36, 36, 34,\n",
       "       40, 39, 38, 41, 41, 40, 38, 38, 38, 41, 41, 47, 44, 41, 40, 44, 41,\n",
       "       39, 46, 44, 48, 46, 49, 46, 48, 50, 50, 46, 48, 44, 49, 44, 44, 50,\n",
       "       49, 51, 50, 50, 46, 52, 49, 55, 53, 54, 53, 48, 46, 50, 50, 57, 56,\n",
       "       54, 56, 56, 53, 49, 49, 53, 57, 54, 50, 59, 55, 57, 61, 58, 59, 58,\n",
       "       61, 60, 57, 58, 57, 62, 58, 57, 60, 55, 59, 60, 60, 57, 59, 59, 54,\n",
       "       57, 56, 54, 57, 54, 55, 56, 55, 50, 51, 53, 54, 52, 50, 54, 56, 53,\n",
       "       50, 55, 53, 53, 52, 54, 55, 47, 48, 48, 50, 53, 52, 52, 54, 52, 48,\n",
       "       47, 50, 48, 45, 49, 47, 45, 41, 45, 40, 42, 42, 42, 41, 39, 40, 43,\n",
       "       38, 40, 42, 38, 40, 41, 40, 45, 42, 37, 36, 37, 35, 38, 36, 34, 30,\n",
       "       33, 34, 34, 33, 38, 34, 36, 32, 32, 30, 30, 32, 27, 29, 32, 32, 29,\n",
       "       28, 31, 29, 30, 32, 30, 30, 30, 29, 28, 30, 28, 24, 30, 23, 25, 18,\n",
       "       18, 24, 24, 24, 19, 23, 20, 16, 16, 22, 21, 23, 16, 21, 19, 14, 16,\n",
       "       18, 15, 9, 6, 14, 13, 15, 15, 15, 9, 10, 6, 6, 10, 9, 11, 10, 11,\n",
       "       7, 4, 6, 4, 0, 5, 0, 1, 5, 7, 8, 2, 2], dtype=object)"
      ]
     },
     "execution_count": 7,
     "metadata": {},
     "output_type": "execute_result"
    }
   ],
   "source": [
    "temp_data[:, 3]\n",
    "##this is the record low of each day"
   ]
  },
  {
   "cell_type": "markdown",
   "id": "4653eff4",
   "metadata": {},
   "source": [
    "#### Diagonal\n",
    "\n",
    "A loop that prints out the diagonal elements of the matrix."
   ]
  },
  {
   "cell_type": "code",
   "execution_count": 8,
   "id": "c12948d4",
   "metadata": {},
   "outputs": [
    {
     "name": "stdout",
     "output_type": "stream",
     "text": [
      "1-Jan\n",
      "24\n",
      "37\n",
      "1\n",
      "1981\n",
      "60\n",
      "1961\n"
     ]
    }
   ],
   "source": [
    "i = 0\n",
    "tempLength = len(temp_data[1])\n",
    "while i < tempLength:\n",
    "    print(temp_data[i,i])\n",
    "    i+=1"
   ]
  },
  {
   "cell_type": "markdown",
   "id": "eb5be930",
   "metadata": {},
   "source": [
    "#### Analyzing the Data\n",
    "\n",
    "\n",
    "Print out the *average* of the *average high* temperatures in May and September."
   ]
  },
  {
   "cell_type": "code",
   "execution_count": 9,
   "id": "a4aca22b",
   "metadata": {},
   "outputs": [
    {
     "name": "stdout",
     "output_type": "stream",
     "text": [
      "The average of the high temps in May was 68.38709677419355\n",
      "The average of the high temps in September was 73.9\n"
     ]
    }
   ],
   "source": [
    "mayTemp = 0\n",
    "sepTemp = 0\n",
    "\n",
    "for i in range(0, len(temp_data)):\n",
    "    date = temp_data[i, 0]\n",
    "    month = date[len(date)-3: ]\n",
    "    if month == 'May':\n",
    "        mayTemp += temp_data[i, 2]\n",
    "    elif month == 'Sep':\n",
    "        sepTemp += temp_data[i, 2]\n",
    "        \n",
    "avgTotal = (mayTemp + sepTemp)/61\n",
    "print(f'The average of the high temps in May was {mayTemp/31}')\n",
    "print(f'The average of the high temps in September was {sepTemp/30}')"
   ]
  },
  {
   "cell_type": "code",
   "execution_count": null,
   "id": "03e80205",
   "metadata": {},
   "outputs": [],
   "source": []
  },
  {
   "cell_type": "markdown",
   "id": "f647cdbf",
   "metadata": {},
   "source": [
    "#### Record Highs and Lows\n",
    "\n",
    "Print out the full date which had the highest temperature in our data, and the date which had the lowest recorded temperature in the data."
   ]
  },
  {
   "cell_type": "code",
   "execution_count": 10,
   "id": "25b81593",
   "metadata": {},
   "outputs": [
    {
     "name": "stdout",
     "output_type": "stream",
     "text": [
      "The record low was -4 on Jan 20, 1996\n",
      "The record high was 102 on Jul 3, 1966\n"
     ]
    }
   ],
   "source": [
    "recordLow = 999999\n",
    "lowDate = ''\n",
    "lowYear = ''\n",
    "recordHigh = -999999\n",
    "highDate = ''\n",
    "highYear = ''\n",
    "\n",
    "for i in range(0, len(temp_data)):\n",
    "    high = temp_data[i, 5]\n",
    "    low = temp_data[i, 3]\n",
    "    date = temp_data[i, 0]\n",
    "    day = date[-3: ]\n",
    "    year = temp_data[i, 6]\n",
    "    if high > recordHigh:\n",
    "        recordHigh = high\n",
    "        highDate = date\n",
    "        highYear = year\n",
    "    elif low < recordLow:\n",
    "        recordLow = low\n",
    "        lowDate = date\n",
    "        lowYear = year\n",
    "\n",
    "        \n",
    "lowMon = lowDate[-3: ]\n",
    "lowDay = lowDate[0: -4]\n",
    "highMon = highDate[-3: ]\n",
    "highDay = highDate[0:-4]\n",
    "\n",
    "print(f'The record low was {recordLow} on {lowMon} {lowDay}, {lowYear}')\n",
    "print(f'The record high was {recordHigh} on {highMon} {highDay}, {highYear}')\n"
   ]
  },
  {
   "cell_type": "code",
   "execution_count": null,
   "id": "14b7883d",
   "metadata": {},
   "outputs": [],
   "source": []
  },
  {
   "cell_type": "markdown",
   "id": "1083c634",
   "metadata": {},
   "source": [
    "### Weather Analysis - Szeged, Hungary\n",
    "\n",
    "I have provided a data set from this site which includes hourly weather data from Szeged, Hungary. https://www.kaggle.com/datasets/muthuj7/weather-dataset/discussion/219899?resource=download"
   ]
  },
  {
   "cell_type": "code",
   "execution_count": 11,
   "id": "d0266781",
   "metadata": {},
   "outputs": [
    {
     "data": {
      "text/html": [
       "<div>\n",
       "<style scoped>\n",
       "    .dataframe tbody tr th:only-of-type {\n",
       "        vertical-align: middle;\n",
       "    }\n",
       "\n",
       "    .dataframe tbody tr th {\n",
       "        vertical-align: top;\n",
       "    }\n",
       "\n",
       "    .dataframe thead th {\n",
       "        text-align: right;\n",
       "    }\n",
       "</style>\n",
       "<table border=\"1\" class=\"dataframe\">\n",
       "  <thead>\n",
       "    <tr style=\"text-align: right;\">\n",
       "      <th></th>\n",
       "      <th>Formatted Date</th>\n",
       "      <th>Summary</th>\n",
       "      <th>Precip Type</th>\n",
       "      <th>Temperature (C)</th>\n",
       "      <th>Apparent Temperature (C)</th>\n",
       "      <th>Difference</th>\n",
       "      <th>Humidity</th>\n",
       "      <th>Wind Speed (km/h)</th>\n",
       "      <th>Wind Bearing (degrees)</th>\n",
       "      <th>Visibility (km)</th>\n",
       "      <th>Loud Cover</th>\n",
       "      <th>Pressure (millibars)</th>\n",
       "      <th>Daily Summary</th>\n",
       "    </tr>\n",
       "  </thead>\n",
       "  <tbody>\n",
       "    <tr>\n",
       "      <th>0</th>\n",
       "      <td>2006-04-01 00:00:00.000 +0200</td>\n",
       "      <td>Partly Cloudy</td>\n",
       "      <td>rain</td>\n",
       "      <td>9.472222</td>\n",
       "      <td>7.388889</td>\n",
       "      <td>-2.083333</td>\n",
       "      <td>0.89</td>\n",
       "      <td>14.1197</td>\n",
       "      <td>251</td>\n",
       "      <td>15.8263</td>\n",
       "      <td>0</td>\n",
       "      <td>1015.13</td>\n",
       "      <td>Partly cloudy throughout the day.</td>\n",
       "    </tr>\n",
       "    <tr>\n",
       "      <th>1</th>\n",
       "      <td>2006-04-01 01:00:00.000 +0200</td>\n",
       "      <td>Partly Cloudy</td>\n",
       "      <td>rain</td>\n",
       "      <td>9.355556</td>\n",
       "      <td>7.227778</td>\n",
       "      <td>-2.127778</td>\n",
       "      <td>0.86</td>\n",
       "      <td>14.2646</td>\n",
       "      <td>259</td>\n",
       "      <td>15.8263</td>\n",
       "      <td>0</td>\n",
       "      <td>1015.63</td>\n",
       "      <td>Partly cloudy throughout the day.</td>\n",
       "    </tr>\n",
       "    <tr>\n",
       "      <th>2</th>\n",
       "      <td>2006-04-01 02:00:00.000 +0200</td>\n",
       "      <td>Mostly Cloudy</td>\n",
       "      <td>rain</td>\n",
       "      <td>9.377778</td>\n",
       "      <td>9.377778</td>\n",
       "      <td>0.000000</td>\n",
       "      <td>0.89</td>\n",
       "      <td>3.9284</td>\n",
       "      <td>204</td>\n",
       "      <td>14.9569</td>\n",
       "      <td>0</td>\n",
       "      <td>1015.94</td>\n",
       "      <td>Partly cloudy throughout the day.</td>\n",
       "    </tr>\n",
       "    <tr>\n",
       "      <th>3</th>\n",
       "      <td>2006-04-01 03:00:00.000 +0200</td>\n",
       "      <td>Partly Cloudy</td>\n",
       "      <td>rain</td>\n",
       "      <td>8.288889</td>\n",
       "      <td>5.944444</td>\n",
       "      <td>-2.344444</td>\n",
       "      <td>0.83</td>\n",
       "      <td>14.1036</td>\n",
       "      <td>269</td>\n",
       "      <td>15.8263</td>\n",
       "      <td>0</td>\n",
       "      <td>1016.41</td>\n",
       "      <td>Partly cloudy throughout the day.</td>\n",
       "    </tr>\n",
       "    <tr>\n",
       "      <th>4</th>\n",
       "      <td>2006-04-01 04:00:00.000 +0200</td>\n",
       "      <td>Mostly Cloudy</td>\n",
       "      <td>rain</td>\n",
       "      <td>8.755556</td>\n",
       "      <td>6.977778</td>\n",
       "      <td>-1.777778</td>\n",
       "      <td>0.83</td>\n",
       "      <td>11.0446</td>\n",
       "      <td>259</td>\n",
       "      <td>15.8263</td>\n",
       "      <td>0</td>\n",
       "      <td>1016.51</td>\n",
       "      <td>Partly cloudy throughout the day.</td>\n",
       "    </tr>\n",
       "    <tr>\n",
       "      <th>...</th>\n",
       "      <td>...</td>\n",
       "      <td>...</td>\n",
       "      <td>...</td>\n",
       "      <td>...</td>\n",
       "      <td>...</td>\n",
       "      <td>...</td>\n",
       "      <td>...</td>\n",
       "      <td>...</td>\n",
       "      <td>...</td>\n",
       "      <td>...</td>\n",
       "      <td>...</td>\n",
       "      <td>...</td>\n",
       "      <td>...</td>\n",
       "    </tr>\n",
       "    <tr>\n",
       "      <th>5610</th>\n",
       "      <td>2006-03-29 19:00:00.000 +0200</td>\n",
       "      <td>Breezy and Partly Cloudy</td>\n",
       "      <td>rain</td>\n",
       "      <td>11.061111</td>\n",
       "      <td>11.061111</td>\n",
       "      <td>0.000000</td>\n",
       "      <td>0.57</td>\n",
       "      <td>36.3377</td>\n",
       "      <td>281</td>\n",
       "      <td>11.2700</td>\n",
       "      <td>0</td>\n",
       "      <td>1009.42</td>\n",
       "      <td>Partly cloudy throughout the day and breezy st...</td>\n",
       "    </tr>\n",
       "    <tr>\n",
       "      <th>5611</th>\n",
       "      <td>2006-03-29 20:00:00.000 +0200</td>\n",
       "      <td>Partly Cloudy</td>\n",
       "      <td>rain</td>\n",
       "      <td>10.816667</td>\n",
       "      <td>10.816667</td>\n",
       "      <td>0.000000</td>\n",
       "      <td>0.58</td>\n",
       "      <td>25.9693</td>\n",
       "      <td>287</td>\n",
       "      <td>11.0768</td>\n",
       "      <td>0</td>\n",
       "      <td>1010.63</td>\n",
       "      <td>Partly cloudy throughout the day and breezy st...</td>\n",
       "    </tr>\n",
       "    <tr>\n",
       "      <th>5612</th>\n",
       "      <td>2006-03-29 21:00:00.000 +0200</td>\n",
       "      <td>Breezy and Mostly Cloudy</td>\n",
       "      <td>rain</td>\n",
       "      <td>9.950000</td>\n",
       "      <td>6.350000</td>\n",
       "      <td>-3.600000</td>\n",
       "      <td>0.62</td>\n",
       "      <td>32.6669</td>\n",
       "      <td>281</td>\n",
       "      <td>10.0464</td>\n",
       "      <td>0</td>\n",
       "      <td>1011.34</td>\n",
       "      <td>Partly cloudy throughout the day and breezy st...</td>\n",
       "    </tr>\n",
       "    <tr>\n",
       "      <th>5613</th>\n",
       "      <td>2006-03-29 22:00:00.000 +0200</td>\n",
       "      <td>Breezy and Partly Cloudy</td>\n",
       "      <td>rain</td>\n",
       "      <td>9.883333</td>\n",
       "      <td>6.372222</td>\n",
       "      <td>-3.511111</td>\n",
       "      <td>0.62</td>\n",
       "      <td>31.0247</td>\n",
       "      <td>290</td>\n",
       "      <td>15.8263</td>\n",
       "      <td>0</td>\n",
       "      <td>1011.94</td>\n",
       "      <td>Partly cloudy throughout the day and breezy st...</td>\n",
       "    </tr>\n",
       "    <tr>\n",
       "      <th>5614</th>\n",
       "      <td>2006-03-29 23:00:00.000 +0200</td>\n",
       "      <td>Partly Cloudy</td>\n",
       "      <td>rain</td>\n",
       "      <td>9.361111</td>\n",
       "      <td>6.072222</td>\n",
       "      <td>-3.288889</td>\n",
       "      <td>0.63</td>\n",
       "      <td>25.7600</td>\n",
       "      <td>279</td>\n",
       "      <td>14.9569</td>\n",
       "      <td>0</td>\n",
       "      <td>1012.93</td>\n",
       "      <td>Partly cloudy throughout the day and breezy st...</td>\n",
       "    </tr>\n",
       "  </tbody>\n",
       "</table>\n",
       "<p>5615 rows × 13 columns</p>\n",
       "</div>"
      ],
      "text/plain": [
       "                     Formatted Date                   Summary Precip Type  \\\n",
       "0     2006-04-01 00:00:00.000 +0200             Partly Cloudy        rain   \n",
       "1     2006-04-01 01:00:00.000 +0200             Partly Cloudy        rain   \n",
       "2     2006-04-01 02:00:00.000 +0200             Mostly Cloudy        rain   \n",
       "3     2006-04-01 03:00:00.000 +0200             Partly Cloudy        rain   \n",
       "4     2006-04-01 04:00:00.000 +0200             Mostly Cloudy        rain   \n",
       "...                             ...                       ...         ...   \n",
       "5610  2006-03-29 19:00:00.000 +0200  Breezy and Partly Cloudy        rain   \n",
       "5611  2006-03-29 20:00:00.000 +0200             Partly Cloudy        rain   \n",
       "5612  2006-03-29 21:00:00.000 +0200  Breezy and Mostly Cloudy        rain   \n",
       "5613  2006-03-29 22:00:00.000 +0200  Breezy and Partly Cloudy        rain   \n",
       "5614  2006-03-29 23:00:00.000 +0200             Partly Cloudy        rain   \n",
       "\n",
       "      Temperature (C)  Apparent Temperature (C)  Difference  Humidity  \\\n",
       "0            9.472222                  7.388889   -2.083333      0.89   \n",
       "1            9.355556                  7.227778   -2.127778      0.86   \n",
       "2            9.377778                  9.377778    0.000000      0.89   \n",
       "3            8.288889                  5.944444   -2.344444      0.83   \n",
       "4            8.755556                  6.977778   -1.777778      0.83   \n",
       "...               ...                       ...         ...       ...   \n",
       "5610        11.061111                 11.061111    0.000000      0.57   \n",
       "5611        10.816667                 10.816667    0.000000      0.58   \n",
       "5612         9.950000                  6.350000   -3.600000      0.62   \n",
       "5613         9.883333                  6.372222   -3.511111      0.62   \n",
       "5614         9.361111                  6.072222   -3.288889      0.63   \n",
       "\n",
       "      Wind Speed (km/h)  Wind Bearing (degrees)  Visibility (km)  Loud Cover  \\\n",
       "0               14.1197                     251          15.8263           0   \n",
       "1               14.2646                     259          15.8263           0   \n",
       "2                3.9284                     204          14.9569           0   \n",
       "3               14.1036                     269          15.8263           0   \n",
       "4               11.0446                     259          15.8263           0   \n",
       "...                 ...                     ...              ...         ...   \n",
       "5610            36.3377                     281          11.2700           0   \n",
       "5611            25.9693                     287          11.0768           0   \n",
       "5612            32.6669                     281          10.0464           0   \n",
       "5613            31.0247                     290          15.8263           0   \n",
       "5614            25.7600                     279          14.9569           0   \n",
       "\n",
       "      Pressure (millibars)                                      Daily Summary  \n",
       "0                  1015.13                  Partly cloudy throughout the day.  \n",
       "1                  1015.63                  Partly cloudy throughout the day.  \n",
       "2                  1015.94                  Partly cloudy throughout the day.  \n",
       "3                  1016.41                  Partly cloudy throughout the day.  \n",
       "4                  1016.51                  Partly cloudy throughout the day.  \n",
       "...                    ...                                                ...  \n",
       "5610               1009.42  Partly cloudy throughout the day and breezy st...  \n",
       "5611               1010.63  Partly cloudy throughout the day and breezy st...  \n",
       "5612               1011.34  Partly cloudy throughout the day and breezy st...  \n",
       "5613               1011.94  Partly cloudy throughout the day and breezy st...  \n",
       "5614               1012.93  Partly cloudy throughout the day and breezy st...  \n",
       "\n",
       "[5615 rows x 13 columns]"
      ]
     },
     "execution_count": 11,
     "metadata": {},
     "output_type": "execute_result"
    }
   ],
   "source": [
    "##preview of data\n",
    "df = pd.read_csv('./weatherHistory.csv')\n",
    "df"
   ]
  },
  {
   "cell_type": "markdown",
   "id": "ee358e38",
   "metadata": {},
   "source": [
    "This is a **large dataset** with over 5000 hours.\n",
    "\n",
    "We are going to focus on the numeric data values. We want to see how **Wind Speed** affects the difference between **Apparent Temperature** (commonly known as the \"feels like\" temperature) and the actual **Temperature** - see the `Difference` column."
   ]
  },
  {
   "cell_type": "code",
   "execution_count": 12,
   "id": "8c45013b",
   "metadata": {},
   "outputs": [
    {
     "data": {
      "text/plain": [
       "array([['2006-04-01 00:00:00.000 +0200', 'Partly Cloudy', 'rain', ..., 0,\n",
       "        1015.13, 'Partly cloudy throughout the day.'],\n",
       "       ['2006-04-01 01:00:00.000 +0200', 'Partly Cloudy', 'rain', ..., 0,\n",
       "        1015.63, 'Partly cloudy throughout the day.'],\n",
       "       ['2006-04-01 02:00:00.000 +0200', 'Mostly Cloudy', 'rain', ..., 0,\n",
       "        1015.94, 'Partly cloudy throughout the day.'],\n",
       "       ...,\n",
       "       ['2006-03-29 21:00:00.000 +0200', 'Breezy and Mostly Cloudy',\n",
       "        'rain', ..., 0, 1011.34,\n",
       "        'Partly cloudy throughout the day and breezy starting in the morning continuing until night.'],\n",
       "       ['2006-03-29 22:00:00.000 +0200', 'Breezy and Partly Cloudy',\n",
       "        'rain', ..., 0, 1011.94,\n",
       "        'Partly cloudy throughout the day and breezy starting in the morning continuing until night.'],\n",
       "       ['2006-03-29 23:00:00.000 +0200', 'Partly Cloudy', 'rain', ..., 0,\n",
       "        1012.93,\n",
       "        'Partly cloudy throughout the day and breezy starting in the morning continuing until night.']],\n",
       "      dtype=object)"
      ]
     },
     "execution_count": 12,
     "metadata": {},
     "output_type": "execute_result"
    }
   ],
   "source": [
    "hungary_weather_data = df.to_numpy()\n",
    "hungary_weather_data\n",
    "\n",
    "## TODO - [One row of data represents the data for one hour]"
   ]
  },
  {
   "cell_type": "markdown",
   "id": "8e46531f",
   "metadata": {},
   "source": [
    "We are going to build a [**linear regression model**](https://en.wikipedia.org/wiki/Linear_regression) that takes various data values as inputs, and tries to build a linear relationship between those values and the *output* (y-value), which is Apparent Temperature.\n",
    "\n",
    "Our model consists of an equation:\n",
    "\n",
    "$$\n",
    "\\hat{y} = \\beta x + \\beta_{0}\n",
    "$$\n",
    "\n",
    "where we \"learn\" the best values for $\\beta$ and $\\beta_{0}$.\n",
    "\n",
    "This means finding those values which minimized the \"Squared error\" between the *predicted* and the *actual*."
   ]
  },
  {
   "cell_type": "markdown",
   "id": "eaf3adde",
   "metadata": {},
   "source": [
    "$$\n",
    "\\text{Minimize: }\n",
    "(y - \\hat{y})^{2}\n",
    "$$\n",
    "\n",
    "Some really smart mathematicians figured out that the values for $\\beta$ and $\\beta_{0}$ that do this are:"
   ]
  },
  {
   "cell_type": "markdown",
   "id": "4bf0ff91",
   "metadata": {},
   "source": [
    "$$\n",
    "\\beta = \\frac{\\sum{x_{i}Y_{i}-\\bar{Y}x_{i}}}{\\sum{x^{2}_{i}-\\bar{x}x_{i}}}\n",
    "$$\n",
    "\n",
    "Where $x_{i}$ represents each individual $x$ value in the data, and $\\bar{x}$ represents the **average** of all the x-values.\n",
    "\n",
    "$Y_{i}$ represents each individual $Y$ value in the data, and $\\bar{Y}$ represents the **average** of all the x-values."
   ]
  },
  {
   "cell_type": "markdown",
   "id": "14bc7416",
   "metadata": {},
   "source": [
    "$\\beta_{0}$, the y-intercept, is easier to find:\n",
    "\n",
    "$$\n",
    "\\beta_{0} = \\bar{Y}-\\beta \\bar{x}\n",
    "$$"
   ]
  },
  {
   "cell_type": "markdown",
   "id": "9f2bd909",
   "metadata": {},
   "source": [
    "We are going to build this model in multiple steps.\n",
    "\n",
    "Many data scientists separate their data into **training data** and **testing data**. This means that only a portion of the data is used to actually find the best values for the model. We are going to perform an **80/20** split. 80% of the data will be our training data, and we will use it to figure out those $\\beta$ and $\\beta_{0}$ values.\n",
    "\n",
    "Then, we will *test it out* on the other 20% of data."
   ]
  },
  {
   "cell_type": "markdown",
   "id": "82716411",
   "metadata": {},
   "source": [
    "To get the 80% training data, we want to take 80% of the rows. There are about 96000 rows. Find the exact value we should use as a boundary between training data and testing data.\n",
    "\n",
    "Once we have found that value, we can use a \"slice\" of the array and store that in a new variable to represent the training data.\n",
    "\n",
    "For example, if we find that the first 70,000 rows should represent the training data, we can simply do:\n",
    "\n",
    "`training_data = hungary_weather_data[:70000]`\n",
    "\n",
    "`testing_data = hungary_weather_data[70000:]`\n",
    "\n",
    "**TODO** - Perform this work in the next code block. (Don't use `70000`. Find out what the 80% cutoff is)"
   ]
  },
  {
   "cell_type": "code",
   "execution_count": 13,
   "id": "b97dc20b",
   "metadata": {},
   "outputs": [],
   "source": [
    "eightyPer = 0.8 * len(hungary_weather_data)\n",
    "eightyPer = int(eightyPer)\n",
    "training_data = hungary_weather_data[ :eightyPer]\n",
    "testing_data = hungary_weather_data[eightyPer: ]"
   ]
  },
  {
   "cell_type": "markdown",
   "id": "51f1a326",
   "metadata": {},
   "source": [
    "Now, let's create 1-D arrays to contain the relevant `x` and `y` values that we will use to train our models.\n",
    "\n",
    "Make `y_train` the column of all the y-values, which is Difference.\n",
    "\n",
    "Remember for a 2-D array - to get an entire column, you do:\n",
    "\n",
    "`training_data[:,0]`\n",
    "\n",
    "to get the entire first column. (but that's not what we want to do. Figure out which column has **Difference** between apparent and actual temperature)\n",
    "\n",
    "For the x-value, you choose one of the other categories. Let's see how **wind speed** affects the **Difference**. It is the 8th column in our data, so it exists at index # 7. Create another variable called `x_train` which equals this 1-D Array."
   ]
  },
  {
   "cell_type": "code",
   "execution_count": 14,
   "id": "89aebdc2",
   "metadata": {},
   "outputs": [],
   "source": [
    "## TODO - Construct 1-D arrays for our x and y values.\n",
    "y_train = training_data[:, 5]\n",
    "x_train = training_data[:, 7]"
   ]
  },
  {
   "cell_type": "code",
   "execution_count": null,
   "id": "cf87479d",
   "metadata": {},
   "outputs": [],
   "source": []
  },
  {
   "cell_type": "markdown",
   "id": "aea95bc5",
   "metadata": {},
   "source": [
    "#### Training the Model\n",
    "\n",
    "Now that we have X and Y Values, we can calculate the values dictated by the formulas above.\n",
    "It probably makes sense to calculate the **averages** first. Make those variables called `y_bar` and `x_bar`."
   ]
  },
  {
   "cell_type": "code",
   "execution_count": 15,
   "id": "af246cf9",
   "metadata": {},
   "outputs": [],
   "source": [
    "# TODO - calculate the average of the x and y values.\n",
    "y_bar = sum(y_train)/len(y_train)\n",
    "x_bar = sum(x_train)/len(x_train)\n"
   ]
  },
  {
   "cell_type": "markdown",
   "id": "a1befdde",
   "metadata": {},
   "source": [
    "Next, let's use those values in the formulas we wrote above. I will display them again:\n",
    "\n",
    "$$\n",
    "\\beta = \\frac{\\sum{x_{i}Y_{i}-\\bar{Y}x_{i}}}{\\sum{x^{2}_{i}-\\bar{x}x_{i}}}\n",
    "$$\n",
    "\n",
    "and\n",
    "\n",
    "$$\n",
    "\\beta_{0} = \\bar{Y}-\\beta \\bar{x}\n",
    "$$"
   ]
  },
  {
   "cell_type": "markdown",
   "id": "fa9d4b09",
   "metadata": {},
   "source": [
    "**TODO**\n",
    "\n",
    "In the next block of code, write code to calculate $\\beta$ based on our training data."
   ]
  },
  {
   "cell_type": "code",
   "execution_count": 16,
   "id": "ce0b4029",
   "metadata": {},
   "outputs": [
    {
     "data": {
      "text/plain": [
       "-0.14636865092873166"
      ]
     },
     "execution_count": 16,
     "metadata": {},
     "output_type": "execute_result"
    }
   ],
   "source": [
    "# TODO - Calculate Beta by looping through the data and summing up the values relevant to our formula\n",
    "num = 0\n",
    "dem = 0\n",
    "for i in range(0, len(x_train)):\n",
    "    num = num + (x_train[i]*y_train[i] - y_bar * x_train[i])\n",
    "    dem = dem + ((x_train[i] ** 2) - (x_bar * x_train[i]))\n",
    "\n",
    "B = num/dem\n",
    "B"
   ]
  },
  {
   "cell_type": "markdown",
   "id": "0ba9d101",
   "metadata": {},
   "source": [
    "Now, calculate $\\beta_{0}$, using the data averages and the $\\beta$ we just calculated."
   ]
  },
  {
   "cell_type": "code",
   "execution_count": 17,
   "id": "5a9dae47",
   "metadata": {},
   "outputs": [
    {
     "data": {
      "text/plain": [
       "0.0949942716664911"
      ]
     },
     "execution_count": 17,
     "metadata": {},
     "output_type": "execute_result"
    }
   ],
   "source": [
    "# TODO - calculate the intercept\n",
    "B0 = y_bar - (B*x_bar)\n",
    "B0"
   ]
  },
  {
   "cell_type": "markdown",
   "id": "d3479ba5",
   "metadata": {},
   "source": [
    "#### Calculating the Regression Line and Plotting it\n",
    "\n",
    "You just performed your first linear regression! We now have all the pieces to construct a line, `y=mx+b`, just like algebra class. More specifically, our line is:\n",
    "\n",
    "$$\n",
    "y = \\beta x + \\beta_{0}\n",
    "$$\n",
    "\n",
    "Let's see how this line *looks* across our training data set by calculating all of those specific y-values. Simply multiply every value in `x_train` by $\\beta$ and add the intercept."
   ]
  },
  {
   "cell_type": "code",
   "execution_count": 18,
   "id": "a22fb64c",
   "metadata": {},
   "outputs": [],
   "source": [
    "predicted_y = B * x_train + B0"
   ]
  },
  {
   "cell_type": "markdown",
   "id": "5e776c80",
   "metadata": {},
   "source": [
    "Let's plot two series using `matplotlib`. We want this to be a scatterplot, so instead of `plt.plot()`, use `plt.scatter(...)`. Both series will have `x_train` as the first input.\n",
    "\n",
    "One series will have the *actual* values, `y_train`, and the other series will have your `predicted_y` from the previous plot. Do you notice a large difference?\n",
    "\n",
    "Remember that you can put different series on the same plot just with consecutive `plt.scatter(...)` lines.\n",
    "\n",
    "Note that you can also put the argument `s=8`, or some other number, at the end of the function call (so within `plt.scatter(...)`) to adjust the size of the scatter markers. I suggest making them small so that you can see all of the points clearly.\n",
    "\n",
    "Please also put axes and title on the plot. Make sure that you give the series different colors so that you can differentiate them."
   ]
  },
  {
   "cell_type": "code",
   "execution_count": 19,
   "id": "16e3ed5c",
   "metadata": {},
   "outputs": [],
   "source": [
    "import matplotlib.pyplot as plt\n",
    "from matplotlib import style\n",
    "style.use('ggplot')"
   ]
  },
  {
   "cell_type": "code",
   "execution_count": 20,
   "id": "c7dbd225",
   "metadata": {},
   "outputs": [
    {
     "data": {
      "text/plain": [
       "<matplotlib.collections.PathCollection at 0x221349ab890>"
      ]
     },
     "execution_count": 20,
     "metadata": {},
     "output_type": "execute_result"
    },
    {
     "data": {
      "image/png": "[encoded data removed]",
      "text/plain": [
       "<Figure size 640x480 with 1 Axes>"
      ]
     },
     "metadata": {},
     "output_type": "display_data"
    }
   ],
   "source": [
    "plt.scatter(x_train, predicted_y, c = 'green', s = 8)\n",
    "plt.scatter(x_train, y_train, c = 'red', s = 5)"
   ]
  }
 ],
 "metadata": {
  "kernelspec": {
   "display_name": "Python 3 (ipykernel)",
   "language": "python",
   "name": "python3"
  },
  "language_info": {
   "codemirror_mode": {
    "name": "ipython",
    "version": 3
   },
   "file_extension": ".py",
   "mimetype": "text/x-python",
   "name": "python",
   "nbconvert_exporter": "python",
   "pygments_lexer": "ipython3",
   "version": "3.11.2"
  }
 },
 "nbformat": 4,
 "nbformat_minor": 5
}
